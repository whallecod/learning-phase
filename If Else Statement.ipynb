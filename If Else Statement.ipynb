{
 "cells": [
  {
   "cell_type": "code",
   "execution_count": 1,
   "id": "6bf5fcec",
   "metadata": {},
   "outputs": [
    {
     "name": "stdout",
     "output_type": "stream",
     "text": [
      "learning if else statements\n"
     ]
    }
   ],
   "source": [
    "print(\"learning if else statements\")"
   ]
  },
  {
   "cell_type": "code",
   "execution_count": 2,
   "id": "f1b00c7c",
   "metadata": {},
   "outputs": [],
   "source": [
    "a = 4\n",
    "b = 2"
   ]
  },
  {
   "cell_type": "code",
   "execution_count": 3,
   "id": "023520e9",
   "metadata": {},
   "outputs": [
    {
     "name": "stdout",
     "output_type": "stream",
     "text": [
      "a is greater than b\n"
     ]
    }
   ],
   "source": [
    "if a < b:\n",
    "    print(\"a is less than b\")\n",
    "elif a == b:\n",
    "    print(\"a is equal to be\")\n",
    "else:\n",
    "    print(\"a is greater than b\")\n"
   ]
  },
  {
   "cell_type": "code",
   "execution_count": 4,
   "id": "24dd9dcd",
   "metadata": {},
   "outputs": [],
   "source": [
    "c = 12\n",
    "d = 18"
   ]
  },
  {
   "cell_type": "code",
   "execution_count": 14,
   "id": "138752c0",
   "metadata": {},
   "outputs": [
    {
     "name": "stdout",
     "output_type": "stream",
     "text": [
      "c is less than d\n"
     ]
    }
   ],
   "source": [
    "if c < d:\n",
    "    print(\"c is less than d\")\n",
    "else:\n",
    "    if c == d:\n",
    "        print(\"print c is equal to d\")\n",
    "    else:\n",
    "        print(\"c is greater than d\")\n",
    "   "
   ]
  },
  {
   "cell_type": "code",
   "execution_count": 25,
   "id": "3bb096b6",
   "metadata": {},
   "outputs": [
    {
     "name": "stdout",
     "output_type": "stream",
     "text": [
      "e is greater than f more than 10\n"
     ]
    }
   ],
   "source": [
    "e = 20\n",
    "f = 8\n",
    "if e < f:\n",
    "    print(\"e is less than f\")\n",
    "elif e > f + 10:\n",
    "    print(\"e is greater than f more than 10\")\n",
    "elif e == f:\n",
    "    print(\"e is equal to f\")\n",
    "else:\n",
    "    print(\"e is greater than f\")"
   ]
  },
  {
   "cell_type": "code",
   "execution_count": 28,
   "id": "a8b0ceaa",
   "metadata": {},
   "outputs": [
    {
     "name": "stdout",
     "output_type": "stream",
     "text": [
      "g is equal to h\n"
     ]
    }
   ],
   "source": [
    "g = 21\n",
    "h = 21\n",
    "if g < h:\n",
    "    print(\"g is less than h\")\n",
    "else:\n",
    "    if g == h:\n",
    "        print(\"g is equal to h\")\n",
    "    else:\n",
    "        print(\"g id greater than h\")"
   ]
  },
  {
   "cell_type": "code",
   "execution_count": null,
   "id": "cf0fd7ee",
   "metadata": {},
   "outputs": [],
   "source": []
  }
 ],
 "metadata": {
  "kernelspec": {
   "display_name": "Python 3 (ipykernel)",
   "language": "python",
   "name": "python3"
  },
  "language_info": {
   "codemirror_mode": {
    "name": "ipython",
    "version": 3
   },
   "file_extension": ".py",
   "mimetype": "text/x-python",
   "name": "python",
   "nbconvert_exporter": "python",
   "pygments_lexer": "ipython3",
   "version": "3.9.7"
  }
 },
 "nbformat": 4,
 "nbformat_minor": 5
}
