{
 "cells": [
  {
   "cell_type": "code",
   "execution_count": 1,
   "id": "11168165",
   "metadata": {},
   "outputs": [],
   "source": [
    "# covert km to miles"
   ]
  },
  {
   "cell_type": "code",
   "execution_count": 2,
   "id": "513c3bda",
   "metadata": {},
   "outputs": [],
   "source": [
    "# coversion of km to miles\n",
    "miles_m = (150)\n"
   ]
  },
  {
   "cell_type": "code",
   "execution_count": 11,
   "id": "db6bedc4",
   "metadata": {},
   "outputs": [],
   "source": [
    "def convert(miles_m):\n",
    "    print(\"km: \")\n",
    "    km = 1.6 * miles_m\n",
    "    return km"
   ]
  },
  {
   "cell_type": "code",
   "execution_count": 12,
   "id": "55888900",
   "metadata": {},
   "outputs": [
    {
     "name": "stdout",
     "output_type": "stream",
     "text": [
      "km: \n"
     ]
    }
   ],
   "source": [
    "result = convert(miles_m)"
   ]
  },
  {
   "cell_type": "code",
   "execution_count": 6,
   "id": "e44595c7",
   "metadata": {},
   "outputs": [
    {
     "name": "stdout",
     "output_type": "stream",
     "text": [
      "240.0\n"
     ]
    }
   ],
   "source": [
    "print(result)"
   ]
  },
  {
   "cell_type": "code",
   "execution_count": 1,
   "id": "02a8292d",
   "metadata": {},
   "outputs": [],
   "source": [
    "#solution to the task\n",
    "# convert miles to km\n",
    "# km = 1.6 * miles\n",
    "def convert(miles):\n",
    "    return 1.6 * miles"
   ]
  },
  {
   "cell_type": "code",
   "execution_count": 4,
   "id": "5f9ca7e5",
   "metadata": {},
   "outputs": [
    {
     "data": {
      "text/plain": [
       "81.60000000000001"
      ]
     },
     "execution_count": 4,
     "metadata": {},
     "output_type": "execute_result"
    }
   ],
   "source": [
    "convert(51)"
   ]
  },
  {
   "cell_type": "code",
   "execution_count": 5,
   "id": "195751a7",
   "metadata": {},
   "outputs": [
    {
     "data": {
      "text/plain": [
       "409.6"
      ]
     },
     "execution_count": 5,
     "metadata": {},
     "output_type": "execute_result"
    }
   ],
   "source": [
    "convert(256)"
   ]
  },
  {
   "cell_type": "code",
   "execution_count": 6,
   "id": "aae1d905",
   "metadata": {},
   "outputs": [
    {
     "data": {
      "text/plain": [
       "52.800000000000004"
      ]
     },
     "execution_count": 6,
     "metadata": {},
     "output_type": "execute_result"
    }
   ],
   "source": [
    "convert(33)"
   ]
  },
  {
   "cell_type": "code",
   "execution_count": 8,
   "id": "8e21243c",
   "metadata": {},
   "outputs": [],
   "source": [
    "# convert kg to pounds\n",
    "# pounds = kg * 2.205"
   ]
  },
  {
   "cell_type": "code",
   "execution_count": 10,
   "id": "a006d8c5",
   "metadata": {},
   "outputs": [],
   "source": [
    "def convert(kg):\n",
    "    print(\"pounds: \")\n",
    "    return 2.205 * kg\n"
   ]
  },
  {
   "cell_type": "code",
   "execution_count": 11,
   "id": "4c04c7cf",
   "metadata": {},
   "outputs": [
    {
     "name": "stdout",
     "output_type": "stream",
     "text": [
      "pounds: \n"
     ]
    },
    {
     "data": {
      "text/plain": [
       "4.41"
      ]
     },
     "execution_count": 11,
     "metadata": {},
     "output_type": "execute_result"
    }
   ],
   "source": [
    "convert(2)"
   ]
  },
  {
   "cell_type": "code",
   "execution_count": 12,
   "id": "c2de9ace",
   "metadata": {},
   "outputs": [
    {
     "name": "stdout",
     "output_type": "stream",
     "text": [
      "pounds: \n"
     ]
    },
    {
     "data": {
      "text/plain": [
       "264.6"
      ]
     },
     "execution_count": 12,
     "metadata": {},
     "output_type": "execute_result"
    }
   ],
   "source": [
    "convert(120)"
   ]
  },
  {
   "cell_type": "code",
   "execution_count": 13,
   "id": "f5ab4913",
   "metadata": {},
   "outputs": [],
   "source": [
    "# formula for calculating Area of a suare\n",
    "# Area = a ** 2\n",
    "# where a = sides"
   ]
  },
  {
   "cell_type": "code",
   "execution_count": 14,
   "id": "6768c2d9",
   "metadata": {},
   "outputs": [],
   "source": [
    "def calculate_A(a):\n",
    "    print(\"Area: \")\n",
    "    return a ** 2"
   ]
  },
  {
   "cell_type": "code",
   "execution_count": 15,
   "id": "78e64587",
   "metadata": {},
   "outputs": [
    {
     "name": "stdout",
     "output_type": "stream",
     "text": [
      "Area: \n"
     ]
    },
    {
     "data": {
      "text/plain": [
       "100"
      ]
     },
     "execution_count": 15,
     "metadata": {},
     "output_type": "execute_result"
    }
   ],
   "source": [
    "calculate_A(10)"
   ]
  },
  {
   "cell_type": "code",
   "execution_count": 16,
   "id": "fcf6ff01",
   "metadata": {},
   "outputs": [
    {
     "name": "stdout",
     "output_type": "stream",
     "text": [
      "Area: \n"
     ]
    },
    {
     "data": {
      "text/plain": [
       "22500"
      ]
     },
     "execution_count": 16,
     "metadata": {},
     "output_type": "execute_result"
    }
   ],
   "source": [
    "calculate_A(150)"
   ]
  },
  {
   "cell_type": "code",
   "execution_count": 17,
   "id": "9824c102",
   "metadata": {},
   "outputs": [],
   "source": [
    "# compound interest\n",
    "# formula A = P (1 + r / n) ^ n / t\n",
    "# A = Accrued amount (principal + interest)\n",
    "# P = Principal amount\n",
    "# r = Annual nominal interest rate as a decimal\n",
    "# R = Annual nominal interest rate as a percent\n",
    "# r = R/100\n",
    "# n = number of compounding periods per unit of time\n",
    "# t = time in decimal years; e.g., 6 months is calculated as 0.5 years. Divide your partial year number of months by 12 to get the decimal years."
   ]
  },
  {
   "cell_type": "code",
   "execution_count": 18,
   "id": "19967857",
   "metadata": {},
   "outputs": [],
   "source": [
    "P = 50\n",
    "r = 0.075\n",
    "n = 10\n",
    "t = 0.833"
   ]
  },
  {
   "cell_type": "code",
   "execution_count": 22,
   "id": "eae7b6d9",
   "metadata": {},
   "outputs": [],
   "source": [
    "def compound_interest_A(p, r, n, t):\n",
    "    A = P (1 + r / n) ^ n / t \n",
    "    print(\"A: \")\n",
    "    "
   ]
  },
  {
   "cell_type": "code",
   "execution_count": 25,
   "id": "7af410f0",
   "metadata": {},
   "outputs": [
    {
     "ename": "TypeError",
     "evalue": "'int' object is not callable",
     "output_type": "error",
     "traceback": [
      "\u001b[1;31m---------------------------------------------------------------------------\u001b[0m",
      "\u001b[1;31mTypeError\u001b[0m                                 Traceback (most recent call last)",
      "\u001b[1;32m~\\AppData\\Local\\Temp/ipykernel_9460/1799472166.py\u001b[0m in \u001b[0;36m<module>\u001b[1;34m\u001b[0m\n\u001b[1;32m----> 1\u001b[1;33m \u001b[0mcompound_interest_A\u001b[0m\u001b[1;33m(\u001b[0m\u001b[1;36m50\u001b[0m\u001b[1;33m,\u001b[0m \u001b[1;36m0.075\u001b[0m\u001b[1;33m,\u001b[0m \u001b[1;36m10\u001b[0m\u001b[1;33m,\u001b[0m \u001b[1;36m0.833\u001b[0m\u001b[1;33m)\u001b[0m\u001b[1;33m\u001b[0m\u001b[1;33m\u001b[0m\u001b[0m\n\u001b[0m",
      "\u001b[1;32m~\\AppData\\Local\\Temp/ipykernel_9460/3639753156.py\u001b[0m in \u001b[0;36mcompound_interest_A\u001b[1;34m(p, r, n, t)\u001b[0m\n\u001b[0;32m      1\u001b[0m \u001b[1;32mdef\u001b[0m \u001b[0mcompound_interest_A\u001b[0m\u001b[1;33m(\u001b[0m\u001b[0mp\u001b[0m\u001b[1;33m,\u001b[0m \u001b[0mr\u001b[0m\u001b[1;33m,\u001b[0m \u001b[0mn\u001b[0m\u001b[1;33m,\u001b[0m \u001b[0mt\u001b[0m\u001b[1;33m)\u001b[0m\u001b[1;33m:\u001b[0m\u001b[1;33m\u001b[0m\u001b[1;33m\u001b[0m\u001b[0m\n\u001b[1;32m----> 2\u001b[1;33m     \u001b[0mA\u001b[0m \u001b[1;33m=\u001b[0m \u001b[0mP\u001b[0m \u001b[1;33m(\u001b[0m\u001b[1;36m1\u001b[0m \u001b[1;33m+\u001b[0m \u001b[0mr\u001b[0m \u001b[1;33m/\u001b[0m \u001b[0mn\u001b[0m\u001b[1;33m)\u001b[0m \u001b[1;33m^\u001b[0m \u001b[0mn\u001b[0m \u001b[1;33m/\u001b[0m \u001b[0mt\u001b[0m\u001b[1;33m\u001b[0m\u001b[1;33m\u001b[0m\u001b[0m\n\u001b[0m\u001b[0;32m      3\u001b[0m     \u001b[0mprint\u001b[0m\u001b[1;33m(\u001b[0m\u001b[1;34m\"A: \"\u001b[0m\u001b[1;33m)\u001b[0m\u001b[1;33m\u001b[0m\u001b[1;33m\u001b[0m\u001b[0m\n\u001b[0;32m      4\u001b[0m \u001b[1;33m\u001b[0m\u001b[0m\n",
      "\u001b[1;31mTypeError\u001b[0m: 'int' object is not callable"
     ]
    }
   ],
   "source": [
    "compound_interest_A(50, 0.075, 10, 0.833)"
   ]
  },
  {
   "cell_type": "code",
   "execution_count": null,
   "id": "781ebebd",
   "metadata": {},
   "outputs": [],
   "source": []
  }
 ],
 "metadata": {
  "kernelspec": {
   "display_name": "Python 3 (ipykernel)",
   "language": "python",
   "name": "python3"
  },
  "language_info": {
   "codemirror_mode": {
    "name": "ipython",
    "version": 3
   },
   "file_extension": ".py",
   "mimetype": "text/x-python",
   "name": "python",
   "nbconvert_exporter": "python",
   "pygments_lexer": "ipython3",
   "version": "3.9.7"
  }
 },
 "nbformat": 4,
 "nbformat_minor": 5
}
