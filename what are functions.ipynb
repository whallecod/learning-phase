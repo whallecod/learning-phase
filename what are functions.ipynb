{
 "cells": [
  {
   "cell_type": "code",
   "execution_count": null,
   "id": "c6cbeb0d",
   "metadata": {},
   "outputs": [],
   "source": [
    "# funtions is a collection of intructions or codes\n",
    "# the hashtag sign is used to begin a comment"
   ]
  },
  {
   "cell_type": "code",
   "execution_count": 2,
   "id": "428991f6",
   "metadata": {},
   "outputs": [
    {
     "name": "stdout",
     "output_type": "stream",
     "text": [
      "this is outside the function\n"
     ]
    }
   ],
   "source": [
    "def function1():\n",
    "    print(\"whale is learning\")\n",
    "    print(\"python from cs dojo\")\n",
    "print(\"this is outside the function\")"
   ]
  },
  {
   "cell_type": "code",
   "execution_count": 4,
   "id": "f12720c6",
   "metadata": {},
   "outputs": [
    {
     "name": "stdout",
     "output_type": "stream",
     "text": [
      "whale is learning\n",
      "python from cs dojo\n"
     ]
    }
   ],
   "source": [
    "function1()"
   ]
  },
  {
   "cell_type": "code",
   "execution_count": 9,
   "id": "10fdd094",
   "metadata": {},
   "outputs": [],
   "source": [
    "def function2():\n",
    "    print(\"life is unpredictable\")\n",
    "    print(\"work hard\")\n"
   ]
  },
  {
   "cell_type": "code",
   "execution_count": 10,
   "id": "dad4ec4e",
   "metadata": {},
   "outputs": [
    {
     "name": "stdout",
     "output_type": "stream",
     "text": [
      "life is unpredictable\n",
      "work hard\n",
      "life is unpredictable\n",
      "work hard\n"
     ]
    }
   ],
   "source": [
    "function2()\n",
    "function2()"
   ]
  },
  {
   "cell_type": "code",
   "execution_count": 11,
   "id": "af5db27e",
   "metadata": {},
   "outputs": [],
   "source": [
    "# mapping\n",
    "# input or an argument\n",
    "def function3(x):\n",
    "    return 3 * x"
   ]
  },
  {
   "cell_type": "code",
   "execution_count": 12,
   "id": "317f6aab",
   "metadata": {},
   "outputs": [
    {
     "name": "stdout",
     "output_type": "stream",
     "text": [
      "6\n"
     ]
    }
   ],
   "source": [
    "a = function3(2)\n",
    "print(a)"
   ]
  },
  {
   "cell_type": "code",
   "execution_count": 13,
   "id": "dbd132f5",
   "metadata": {},
   "outputs": [
    {
     "name": "stdout",
     "output_type": "stream",
     "text": [
      "12\n"
     ]
    }
   ],
   "source": [
    "b = function3(4)\n",
    "print(b)\n"
   ]
  },
  {
   "cell_type": "code",
   "execution_count": 14,
   "id": "d72deb74",
   "metadata": {},
   "outputs": [
    {
     "name": "stdout",
     "output_type": "stream",
     "text": [
      "17\n"
     ]
    }
   ],
   "source": [
    "c = 2 + function3(5)\n",
    "print(c)"
   ]
  },
  {
   "cell_type": "code",
   "execution_count": 15,
   "id": "9779cb6f",
   "metadata": {},
   "outputs": [
    {
     "name": "stdout",
     "output_type": "stream",
     "text": [
      "whale is learning\n",
      "python from cs dojo\n",
      "life is unpredictable\n",
      "work hard\n"
     ]
    },
    {
     "data": {
      "text/plain": [
       "12"
      ]
     },
     "execution_count": 15,
     "metadata": {},
     "output_type": "execute_result"
    }
   ],
   "source": [
    "function1()\n",
    "function2()\n",
    "function3(4)"
   ]
  },
  {
   "cell_type": "code",
   "execution_count": 16,
   "id": "b762126c",
   "metadata": {},
   "outputs": [],
   "source": [
    "def function4(x, y):\n",
    "    return x * y\n"
   ]
  },
  {
   "cell_type": "code",
   "execution_count": 17,
   "id": "e6999db2",
   "metadata": {},
   "outputs": [
    {
     "data": {
      "text/plain": [
       "8"
      ]
     },
     "execution_count": 17,
     "metadata": {},
     "output_type": "execute_result"
    }
   ],
   "source": [
    "function4(2, 4)"
   ]
  },
  {
   "cell_type": "code",
   "execution_count": 18,
   "id": "b9655d3e",
   "metadata": {},
   "outputs": [],
   "source": [
    "def function5(x):\n",
    "    print(x)\n",
    "    print(\"testing mapping and argurment function\")\n",
    "    return 4 + x"
   ]
  },
  {
   "cell_type": "code",
   "execution_count": 19,
   "id": "bb7c0cc7",
   "metadata": {},
   "outputs": [
    {
     "name": "stdout",
     "output_type": "stream",
     "text": [
      "6\n",
      "testing mapping and argurment function\n"
     ]
    }
   ],
   "source": [
    "e = function5(6)"
   ]
  },
  {
   "cell_type": "code",
   "execution_count": 20,
   "id": "53043c46",
   "metadata": {},
   "outputs": [
    {
     "name": "stdout",
     "output_type": "stream",
     "text": [
      "6\n",
      "testing mapping and argurment function\n"
     ]
    },
    {
     "data": {
      "text/plain": [
       "10"
      ]
     },
     "execution_count": 20,
     "metadata": {},
     "output_type": "execute_result"
    }
   ],
   "source": [
    "function5(6)"
   ]
  },
  {
   "cell_type": "code",
   "execution_count": 21,
   "id": "22180ca2",
   "metadata": {},
   "outputs": [
    {
     "name": "stdout",
     "output_type": "stream",
     "text": [
      "10\n"
     ]
    }
   ],
   "source": [
    "print(e)"
   ]
  },
  {
   "cell_type": "code",
   "execution_count": 26,
   "id": "091ddcf9",
   "metadata": {},
   "outputs": [],
   "source": [
    "def function6(x, y):\n",
    "    print(\"learning process\")\n",
    "    return x - y"
   ]
  },
  {
   "cell_type": "code",
   "execution_count": 27,
   "id": "6fefe01d",
   "metadata": {},
   "outputs": [
    {
     "name": "stdout",
     "output_type": "stream",
     "text": [
      "learning process\n"
     ]
    },
    {
     "data": {
      "text/plain": [
       "5"
      ]
     },
     "execution_count": 27,
     "metadata": {},
     "output_type": "execute_result"
    }
   ],
   "source": [
    "function6(8, 3)"
   ]
  },
  {
   "cell_type": "code",
   "execution_count": 30,
   "id": "76253290",
   "metadata": {},
   "outputs": [
    {
     "name": "stdout",
     "output_type": "stream",
     "text": [
      "learning process\n",
      "2\n"
     ]
    }
   ],
   "source": [
    "f = function6(5, 3)\n",
    "print(f)"
   ]
  },
  {
   "cell_type": "code",
   "execution_count": 31,
   "id": "fa62378d",
   "metadata": {},
   "outputs": [
    {
     "name": "stdout",
     "output_type": "stream",
     "text": [
      "2\n"
     ]
    }
   ],
   "source": [
    "print(f)"
   ]
  },
  {
   "cell_type": "code",
   "execution_count": 39,
   "id": "4212c196",
   "metadata": {},
   "outputs": [],
   "source": [
    "# BMI_calculator\n",
    "name1 = (\"whale\")\n",
    "height_m1 = (5)\n",
    "weight_kg1 = (56)\n",
    "\n",
    "name2 = (\"tayo\")\n",
    "height_m2 = (7)\n",
    "weight_kg2 = (70)\n",
    "\n",
    "name3 = (\"bella\")\n",
    "height_m3 = (6.5)\n",
    "weight_kg3 = (66)"
   ]
  },
  {
   "cell_type": "code",
   "execution_count": 50,
   "id": "5e6d0305",
   "metadata": {},
   "outputs": [],
   "source": [
    "def bni_calculator(name, weight_kg, height_m):\n",
    "    bmi = weight_kg / (height_m ** 2)\n",
    "    print(\"bmi: \")\n",
    "    print(bmi)\n",
    "    if bmi < 25:\n",
    "        return name  +  \" is not overweight\"\n",
    "    else:\n",
    "        return name  + \" is overweight\""
   ]
  },
  {
   "cell_type": "code",
   "execution_count": 51,
   "id": "9a32c99e",
   "metadata": {},
   "outputs": [
    {
     "name": "stdout",
     "output_type": "stream",
     "text": [
      "bmi: \n",
      "2.24\n",
      "bmi: \n",
      "1.4285714285714286\n",
      "bmi: \n",
      "1.5621301775147929\n"
     ]
    }
   ],
   "source": [
    "result1 = bni_calculator(name1, weight_kg1, height_m1)\n",
    "result2 = bni_calculator(name2, weight_kg2, height_m2)\n",
    "result3 = bni_calculator(name3, weight_kg3, height_m3)"
   ]
  },
  {
   "cell_type": "code",
   "execution_count": 53,
   "id": "c858ae9f",
   "metadata": {},
   "outputs": [
    {
     "name": "stdout",
     "output_type": "stream",
     "text": [
      "whale is not overweight\n",
      "tayo is not overweight\n",
      "bella is not overweight\n"
     ]
    }
   ],
   "source": [
    "print(result1)\n",
    "print(result2)\n",
    "print(result3)"
   ]
  },
  {
   "cell_type": "code",
   "execution_count": null,
   "id": "d997fff2",
   "metadata": {},
   "outputs": [],
   "source": []
  }
 ],
 "metadata": {
  "kernelspec": {
   "display_name": "Python 3 (ipykernel)",
   "language": "python",
   "name": "python3"
  },
  "language_info": {
   "codemirror_mode": {
    "name": "ipython",
    "version": 3
   },
   "file_extension": ".py",
   "mimetype": "text/x-python",
   "name": "python",
   "nbconvert_exporter": "python",
   "pygments_lexer": "ipython3",
   "version": "3.9.7"
  }
 },
 "nbformat": 4,
 "nbformat_minor": 5
}
