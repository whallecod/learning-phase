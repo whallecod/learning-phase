{
 "cells": [
  {
   "cell_type": "code",
   "execution_count": 1,
   "id": "912563e6",
   "metadata": {},
   "outputs": [
    {
     "name": "stdout",
     "output_type": "stream",
     "text": [
      "hello world\n"
     ]
    }
   ],
   "source": [
    "print(\"hello world\")"
   ]
  },
  {
   "cell_type": "code",
   "execution_count": 2,
   "id": "2a41e274",
   "metadata": {},
   "outputs": [
    {
     "name": "stdout",
     "output_type": "stream",
     "text": [
      "hello python for beginners\n"
     ]
    }
   ],
   "source": [
    "print(\"hello python for beginners\")"
   ]
  },
  {
   "cell_type": "code",
   "execution_count": 3,
   "id": "bf68495e",
   "metadata": {},
   "outputs": [
    {
     "name": "stdout",
     "output_type": "stream",
     "text": [
      "vaiables and string\n"
     ]
    }
   ],
   "source": [
    "print(\"vaiables and string\")\n"
   ]
  },
  {
   "cell_type": "code",
   "execution_count": 4,
   "id": "0de0c755",
   "metadata": {},
   "outputs": [],
   "source": [
    "a = 1\n",
    "b = 2\n",
    "c = 3\n",
    "d = 4\n",
    "e = 5\n"
   ]
  },
  {
   "cell_type": "code",
   "execution_count": 6,
   "id": "ade10559",
   "metadata": {},
   "outputs": [
    {
     "name": "stdout",
     "output_type": "stream",
     "text": [
      "1\n",
      "2\n",
      "3\n",
      "4\n",
      "5\n"
     ]
    }
   ],
   "source": [
    "print(a)\n",
    "print(b)\n",
    "print(c)\n",
    "print(d)\n",
    "print(e)"
   ]
  },
  {
   "cell_type": "code",
   "execution_count": 7,
   "id": "289d9dac",
   "metadata": {},
   "outputs": [
    {
     "name": "stdout",
     "output_type": "stream",
     "text": [
      "1\n",
      "2\n"
     ]
    }
   ],
   "source": [
    "print(a)\n",
    "print(b)"
   ]
  },
  {
   "cell_type": "code",
   "execution_count": 8,
   "id": "de99d02e",
   "metadata": {},
   "outputs": [],
   "source": [
    "b = a\n"
   ]
  },
  {
   "cell_type": "code",
   "execution_count": 9,
   "id": "16edba35",
   "metadata": {},
   "outputs": [
    {
     "name": "stdout",
     "output_type": "stream",
     "text": [
      "1\n"
     ]
    }
   ],
   "source": [
    "print(b)"
   ]
  },
  {
   "cell_type": "code",
   "execution_count": 10,
   "id": "00d586b0",
   "metadata": {},
   "outputs": [],
   "source": [
    "e = c"
   ]
  },
  {
   "cell_type": "code",
   "execution_count": 11,
   "id": "18bc7a8f",
   "metadata": {},
   "outputs": [
    {
     "name": "stdout",
     "output_type": "stream",
     "text": [
      "3\n",
      "3\n"
     ]
    }
   ],
   "source": [
    "print(e)\n",
    "print(c)"
   ]
  },
  {
   "cell_type": "code",
   "execution_count": 12,
   "id": "a5694f9c",
   "metadata": {},
   "outputs": [
    {
     "name": "stdout",
     "output_type": "stream",
     "text": [
      "swapping of variables\n"
     ]
    }
   ],
   "source": [
    "print(\"swapping of variables\")"
   ]
  },
  {
   "cell_type": "code",
   "execution_count": 24,
   "id": "74de3d07",
   "metadata": {},
   "outputs": [],
   "source": [
    "d1 = (\"Twitter\")\n",
    "r2 = (\"Instagram\")"
   ]
  },
  {
   "cell_type": "code",
   "execution_count": 25,
   "id": "5cbadb9f",
   "metadata": {},
   "outputs": [
    {
     "name": "stdout",
     "output_type": "stream",
     "text": [
      "Twitter\n",
      "Instagram\n"
     ]
    }
   ],
   "source": [
    "print(d1)\n",
    "print(r2)"
   ]
  },
  {
   "cell_type": "code",
   "execution_count": 26,
   "id": "fc8652b4",
   "metadata": {},
   "outputs": [],
   "source": [
    "temp = r2\n"
   ]
  },
  {
   "cell_type": "code",
   "execution_count": 27,
   "id": "6dc9b02b",
   "metadata": {},
   "outputs": [
    {
     "name": "stdout",
     "output_type": "stream",
     "text": [
      "Instagram\n"
     ]
    }
   ],
   "source": [
    "print(temp)\n",
    "\n"
   ]
  },
  {
   "cell_type": "code",
   "execution_count": 28,
   "id": "733c982e",
   "metadata": {},
   "outputs": [],
   "source": [
    "r2 = d1\n"
   ]
  },
  {
   "cell_type": "code",
   "execution_count": 29,
   "id": "33818419",
   "metadata": {},
   "outputs": [],
   "source": [
    "d1 = temp"
   ]
  },
  {
   "cell_type": "code",
   "execution_count": 30,
   "id": "34edf999",
   "metadata": {},
   "outputs": [
    {
     "name": "stdout",
     "output_type": "stream",
     "text": [
      "Instagram\n",
      "Twitter\n",
      "Instagram\n"
     ]
    }
   ],
   "source": [
    "print(d1)\n",
    "print(r2)\n",
    "print(temp)"
   ]
  },
  {
   "cell_type": "code",
   "execution_count": null,
   "id": "2473481f",
   "metadata": {},
   "outputs": [],
   "source": []
  }
 ],
 "metadata": {
  "kernelspec": {
   "display_name": "Python 3 (ipykernel)",
   "language": "python",
   "name": "python3"
  },
  "language_info": {
   "codemirror_mode": {
    "name": "ipython",
    "version": 3
   },
   "file_extension": ".py",
   "mimetype": "text/x-python",
   "name": "python",
   "nbconvert_exporter": "python",
   "pygments_lexer": "ipython3",
   "version": "3.9.7"
  }
 },
 "nbformat": 4,
 "nbformat_minor": 5
}
