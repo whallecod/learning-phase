{
 "cells": [
  {
   "cell_type": "code",
   "execution_count": 2,
   "id": "42e716cb",
   "metadata": {},
   "outputs": [
    {
     "name": "stdout",
     "output_type": "stream",
     "text": [
      "bmi: \n",
      "2.1487603305785123\n",
      "WHALE\n",
      "is not overweight\n"
     ]
    }
   ],
   "source": [
    "name = (\"WHALE\")\n",
    "weight_kg = 65\n",
    "height_m = 5.5\n",
    "\n",
    "bmi = weight_kg / height_m ** 2\n",
    "print(\"bmi: \")\n",
    "print(bmi)\n",
    "if bmi < 25:\n",
    "    print(name)\n",
    "    print(\"is not overweight\")\n",
    "else:\n",
    "    print(name)\n",
    "    print(\"is overweight\")"
   ]
  },
  {
   "cell_type": "code",
   "execution_count": 5,
   "id": "12090acd",
   "metadata": {},
   "outputs": [
    {
     "name": "stdout",
     "output_type": "stream",
     "text": [
      "speed:  \n",
      "0.01625\n",
      "LAGOS\n",
      "is not far\n"
     ]
    }
   ],
   "source": [
    "name = (\"LAGOS\")\n",
    "distance_m = 234\n",
    "time_s = 14400\n",
    "\n",
    "speed =distance_m / time_s\n",
    "print(\"speed:  \")\n",
    "print(speed)\n",
    "if speed < 1:\n",
    "    print(name)\n",
    "    print(\"is not far\")\n",
    "else:\n",
    "    print(name)\n",
    "    print(\"is far\")"
   ]
  },
  {
   "cell_type": "code",
   "execution_count": null,
   "id": "675ee850",
   "metadata": {},
   "outputs": [],
   "source": []
  }
 ],
 "metadata": {
  "kernelspec": {
   "display_name": "Python 3 (ipykernel)",
   "language": "python",
   "name": "python3"
  },
  "language_info": {
   "codemirror_mode": {
    "name": "ipython",
    "version": 3
   },
   "file_extension": ".py",
   "mimetype": "text/x-python",
   "name": "python",
   "nbconvert_exporter": "python",
   "pygments_lexer": "ipython3",
   "version": "3.9.7"
  }
 },
 "nbformat": 4,
 "nbformat_minor": 5
}
